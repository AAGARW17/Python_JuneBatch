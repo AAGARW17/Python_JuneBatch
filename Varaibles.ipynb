{
 "cells": [
  {
   "cell_type": "code",
   "execution_count": 1,
   "id": "830a1a77",
   "metadata": {},
   "outputs": [
    {
     "ename": "SyntaxError",
     "evalue": "invalid syntax (Temp/ipykernel_24360/1998332118.py, line 2)",
     "output_type": "error",
     "traceback": [
      "\u001b[1;36m  File \u001b[1;32m\"C:\\Users\\abhis\\AppData\\Local\\Temp/ipykernel_24360/1998332118.py\"\u001b[1;36m, line \u001b[1;32m2\u001b[0m\n\u001b[1;33m    123var=100\u001b[0m\n\u001b[1;37m       ^\u001b[0m\n\u001b[1;31mSyntaxError\u001b[0m\u001b[1;31m:\u001b[0m invalid syntax\n"
     ]
    }
   ],
   "source": [
    "#Varaibles\n",
    "123var=100\n",
    "123var"
   ]
  },
  {
   "cell_type": "code",
   "execution_count": 2,
   "id": "3d1a817f",
   "metadata": {},
   "outputs": [
    {
     "data": {
      "text/plain": [
       "200"
      ]
     },
     "execution_count": 2,
     "metadata": {},
     "output_type": "execute_result"
    }
   ],
   "source": [
    "var123=200\n",
    "var123"
   ]
  },
  {
   "cell_type": "code",
   "execution_count": 3,
   "id": "4e05c13a",
   "metadata": {},
   "outputs": [
    {
     "ename": "SyntaxError",
     "evalue": "invalid syntax (Temp/ipykernel_24360/3062831427.py, line 1)",
     "output_type": "error",
     "traceback": [
      "\u001b[1;36m  File \u001b[1;32m\"C:\\Users\\abhis\\AppData\\Local\\Temp/ipykernel_24360/3062831427.py\"\u001b[1;36m, line \u001b[1;32m1\u001b[0m\n\u001b[1;33m    var$=10\u001b[0m\n\u001b[1;37m       ^\u001b[0m\n\u001b[1;31mSyntaxError\u001b[0m\u001b[1;31m:\u001b[0m invalid syntax\n"
     ]
    }
   ],
   "source": [
    "var$=10\n",
    "var$"
   ]
  },
  {
   "cell_type": "code",
   "execution_count": 4,
   "id": "a9a2ffe3",
   "metadata": {},
   "outputs": [
    {
     "data": {
      "text/plain": [
       "30"
      ]
     },
     "execution_count": 4,
     "metadata": {},
     "output_type": "execute_result"
    }
   ],
   "source": [
    "var_=30\n",
    "var_"
   ]
  },
  {
   "cell_type": "code",
   "execution_count": 6,
   "id": "bf7fc657",
   "metadata": {},
   "outputs": [
    {
     "name": "stdout",
     "output_type": "stream",
     "text": [
      "20\n",
      "10\n"
     ]
    }
   ],
   "source": [
    "var1=10\n",
    "Var1=20\n",
    "print(Var1)\n",
    "print(var1)\n"
   ]
  },
  {
   "cell_type": "code",
   "execution_count": 7,
   "id": "b3657e0e",
   "metadata": {},
   "outputs": [
    {
     "data": {
      "text/plain": [
       "2"
      ]
     },
     "execution_count": 7,
     "metadata": {},
     "output_type": "execute_result"
    }
   ],
   "source": [
    "_=2\n",
    "_"
   ]
  },
  {
   "cell_type": "code",
   "execution_count": 8,
   "id": "b350e4c7",
   "metadata": {},
   "outputs": [
    {
     "ename": "SyntaxError",
     "evalue": "invalid syntax (Temp/ipykernel_24360/3805692736.py, line 1)",
     "output_type": "error",
     "traceback": [
      "\u001b[1;36m  File \u001b[1;32m\"C:\\Users\\abhis\\AppData\\Local\\Temp/ipykernel_24360/3805692736.py\"\u001b[1;36m, line \u001b[1;32m1\u001b[0m\n\u001b[1;33m    var.=1\u001b[0m\n\u001b[1;37m        ^\u001b[0m\n\u001b[1;31mSyntaxError\u001b[0m\u001b[1;31m:\u001b[0m invalid syntax\n"
     ]
    }
   ],
   "source": [
    "var.=1\n",
    "var."
   ]
  },
  {
   "cell_type": "code",
   "execution_count": 9,
   "id": "27574bf9",
   "metadata": {},
   "outputs": [
    {
     "ename": "SyntaxError",
     "evalue": "invalid syntax (Temp/ipykernel_24360/570416339.py, line 1)",
     "output_type": "error",
     "traceback": [
      "\u001b[1;36m  File \u001b[1;32m\"C:\\Users\\abhis\\AppData\\Local\\Temp/ipykernel_24360/570416339.py\"\u001b[1;36m, line \u001b[1;32m1\u001b[0m\n\u001b[1;33m    if =600\u001b[0m\n\u001b[1;37m       ^\u001b[0m\n\u001b[1;31mSyntaxError\u001b[0m\u001b[1;31m:\u001b[0m invalid syntax\n"
     ]
    }
   ],
   "source": [
    "if =600\n",
    "if"
   ]
  },
  {
   "cell_type": "markdown",
   "id": "41388f23",
   "metadata": {},
   "source": [
    "for =800\n",
    "for "
   ]
  },
  {
   "cell_type": "markdown",
   "id": "ea67ee06",
   "metadata": {},
   "source": [
    "while =300\n",
    "while"
   ]
  },
  {
   "cell_type": "code",
   "execution_count": 16,
   "id": "f46f23f7",
   "metadata": {},
   "outputs": [
    {
     "data": {
      "text/plain": [
       "'C:\\\\Users\\\\abhis\\\\WorkFolder2'"
      ]
     },
     "execution_count": 16,
     "metadata": {},
     "output_type": "execute_result"
    }
   ],
   "source": [
    "import os\n",
    "os.getcwd()"
   ]
  },
  {
   "cell_type": "code",
   "execution_count": 17,
   "id": "9d1f3023",
   "metadata": {},
   "outputs": [
    {
     "data": {
      "text/plain": [
       "b'C:\\\\Users\\\\abhis\\\\WorkFolder2'"
      ]
     },
     "execution_count": 17,
     "metadata": {},
     "output_type": "execute_result"
    }
   ],
   "source": [
    "import os\n",
    "os.getcwdb()"
   ]
  },
  {
   "cell_type": "markdown",
   "id": "8b8d63f0",
   "metadata": {},
   "source": [
    "os.get"
   ]
  },
  {
   "cell_type": "markdown",
   "id": "a78f45f6",
   "metadata": {},
   "source": [
    "Varaibles "
   ]
  },
  {
   "cell_type": "code",
   "execution_count": 19,
   "id": "b2fd3d7c",
   "metadata": {},
   "outputs": [
    {
     "data": {
      "text/plain": [
       "int"
      ]
     },
     "execution_count": 19,
     "metadata": {},
     "output_type": "execute_result"
    }
   ],
   "source": [
    "#DATA TYPES\n",
    "-Integer\n",
    "-Float\n",
    "-Boolean\n",
    "-String\n",
    "-Complex\n",
    "-List\n",
    "-Tuple\n",
    "-Dictionary\n",
    "-Set\n",
    "x=100\n",
    "type(x)"
   ]
  },
  {
   "cell_type": "code",
   "execution_count": 1,
   "id": "85c49345",
   "metadata": {},
   "outputs": [],
   "source": [
    "num=100"
   ]
  },
  {
   "cell_type": "code",
   "execution_count": 4,
   "id": "6d988df2",
   "metadata": {},
   "outputs": [
    {
     "data": {
      "text/plain": [
       "9"
      ]
     },
     "execution_count": 4,
     "metadata": {},
     "output_type": "execute_result"
    }
   ],
   "source": [
    "#INTIGER\n",
    "\n",
    "0b1001\n"
   ]
  },
  {
   "cell_type": "code",
   "execution_count": 5,
   "id": "c4d3e805",
   "metadata": {},
   "outputs": [
    {
     "data": {
      "text/plain": [
       "'C:\\\\Users\\\\abhis\\\\WorkFolder2'"
      ]
     },
     "execution_count": 5,
     "metadata": {},
     "output_type": "execute_result"
    }
   ],
   "source": [
    "import os\n",
    "os.getcwd()"
   ]
  },
  {
   "cell_type": "code",
   "execution_count": 6,
   "id": "04f7098e",
   "metadata": {},
   "outputs": [
    {
     "data": {
      "text/plain": [
       "83"
      ]
     },
     "execution_count": 6,
     "metadata": {},
     "output_type": "execute_result"
    }
   ],
   "source": [
    "0o123\n",
    "# (1X8*2)+(2X8*1)(3X8*0)=(1*64)+(2*8)+(3*1)=64+16+3=83 "
   ]
  },
  {
   "cell_type": "code",
   "execution_count": 7,
   "id": "cb03d23a",
   "metadata": {},
   "outputs": [
    {
     "data": {
      "text/plain": [
       "668"
      ]
     },
     "execution_count": 7,
     "metadata": {},
     "output_type": "execute_result"
    }
   ],
   "source": [
    "0O1234"
   ]
  },
  {
   "cell_type": "code",
   "execution_count": 9,
   "id": "df37d27d",
   "metadata": {},
   "outputs": [
    {
     "name": "stdout",
     "output_type": "stream",
     "text": [
      "2748\n",
      "2748\n"
     ]
    }
   ],
   "source": [
    "j=0xabc\n",
    "print (j)\n",
    "i= (10*16*16)+(11*16*1)+(12*1)\n",
    "print (i)"
   ]
  },
  {
   "cell_type": "code",
   "execution_count": 10,
   "id": "92f4d296",
   "metadata": {},
   "outputs": [
    {
     "name": "stdout",
     "output_type": "stream",
     "text": [
      "i like \"Python\" \n"
     ]
    }
   ],
   "source": [
    "str='i like \"Python\" '\n",
    "print(str)"
   ]
  },
  {
   "cell_type": "code",
   "execution_count": 12,
   "id": "82ec48a0",
   "metadata": {},
   "outputs": [
    {
     "name": "stdout",
     "output_type": "stream",
     "text": [
      "i like 'Python' \n"
     ]
    }
   ],
   "source": [
    "str=\"i like 'Python' \"\n",
    "print(str)"
   ]
  },
  {
   "cell_type": "code",
   "execution_count": null,
   "id": "d38f43e8",
   "metadata": {},
   "outputs": [],
   "source": []
  }
 ],
 "metadata": {
  "kernelspec": {
   "display_name": "Python 3 (ipykernel)",
   "language": "python",
   "name": "python3"
  },
  "language_info": {
   "codemirror_mode": {
    "name": "ipython",
    "version": 3
   },
   "file_extension": ".py",
   "mimetype": "text/x-python",
   "name": "python",
   "nbconvert_exporter": "python",
   "pygments_lexer": "ipython3",
   "version": "3.9.7"
  }
 },
 "nbformat": 4,
 "nbformat_minor": 5
}
