{
 "cells": [
  {
   "cell_type": "markdown",
   "id": "ef70423c",
   "metadata": {},
   "source": [
    "# LAMBDA Function\n",
    "-Represents function concept only but we can write in Single Line\n",
    "-Lamda function also similar to  list comprehension, it will decrease time complexity\n",
    "-Always remember if we use many for looop or many conditions using multiple lines of code the time complexity will increase\n",
    "-Syntax:- will use key work called ***lambda**  \n",
    "  lambda <arguments>: <expression>"
   ]
  },
  {
   "cell_type": "markdown",
   "id": "79f6db9a",
   "metadata": {},
   "source": [
    "# PATTERN-1\n",
    "****Function with 1 Argument ********\n",
    "-function name \n",
    "-argument name\n",
    "-return output\n",
    "Syntax:- <function Name>=  lambda<argument name>: <return output>\n",
    "    def summ(n):\n",
    "        return(n+10)\n",
    "    summ(10)"
   ]
  },
  {
   "cell_type": "code",
   "execution_count": 1,
   "id": "fc134500",
   "metadata": {},
   "outputs": [
    {
     "data": {
      "text/plain": [
       "20"
      ]
     },
     "execution_count": 1,
     "metadata": {},
     "output_type": "execute_result"
    }
   ],
   "source": [
    "summ=lambda n:n+10\n",
    "summ(10)"
   ]
  },
  {
   "cell_type": "code",
   "execution_count": 2,
   "id": "c002d008",
   "metadata": {},
   "outputs": [
    {
     "data": {
      "text/plain": [
       "27"
      ]
     },
     "execution_count": 2,
     "metadata": {},
     "output_type": "execute_result"
    }
   ],
   "source": [
    "cube=lambda n:n**3\n",
    "cube(3)"
   ]
  },
  {
   "cell_type": "markdown",
   "id": "8da44469",
   "metadata": {},
   "source": [
    "# Pattern-2\n",
    "<function Name>= lambda<arg1>,<arg2>:<return output>\n",
    "    #def add(a,b)\n",
    "    return(a+b)\n",
    "    add(50,50)"
   ]
  },
  {
   "cell_type": "code",
   "execution_count": 3,
   "id": "2c85386b",
   "metadata": {},
   "outputs": [
    {
     "data": {
      "text/plain": [
       "30"
      ]
     },
     "execution_count": 3,
     "metadata": {},
     "output_type": "execute_result"
    }
   ],
   "source": [
    "sum1=lambda a,b: a+b\n",
    "sum1(10,20)"
   ]
  },
  {
   "cell_type": "code",
   "execution_count": 6,
   "id": "71ecab54",
   "metadata": {},
   "outputs": [
    {
     "data": {
      "text/plain": [
       "20.0"
      ]
     },
     "execution_count": 6,
     "metadata": {},
     "output_type": "execute_result"
    }
   ],
   "source": [
    "#Avg\n",
    "avg1=lambda a,b,c: (a+b+c)/3\n",
    "avg1(10,20,30)"
   ]
  },
  {
   "cell_type": "code",
   "execution_count": 7,
   "id": "4aeb34d0",
   "metadata": {},
   "outputs": [
    {
     "data": {
      "text/plain": [
       "176.66666666666666"
      ]
     },
     "execution_count": 7,
     "metadata": {},
     "output_type": "execute_result"
    }
   ],
   "source": [
    "# Default argument\n",
    "#Avg\n",
    "avg1=lambda a,b,c=500: (a+b+c)/3\n",
    "avg1(10,20)"
   ]
  },
  {
   "cell_type": "code",
   "execution_count": 8,
   "id": "e72dff9a",
   "metadata": {},
   "outputs": [
    {
     "data": {
      "text/plain": [
       "20.0"
      ]
     },
     "execution_count": 8,
     "metadata": {},
     "output_type": "execute_result"
    }
   ],
   "source": [
    "#Avg\n",
    "avg1=lambda a,b,c=500: (a+b+c)/3\n",
    "avg1(10,20,30)"
   ]
  },
  {
   "cell_type": "markdown",
   "id": "77aaac75",
   "metadata": {},
   "source": [
    "# function name= lambda<arg1>,<arg2>:<list Comprehension> \n",
    "     function name= lambda<arg1>,<arg2>:<if_out><if Condition><Else><Else_OP>\n",
    "Def max(a,b)\n",
    " if a>b:\n",
    "        return (a)\n",
    "    else:\n",
    "        return (b)\n",
    "    max(10,20)\n",
    "    "
   ]
  },
  {
   "cell_type": "code",
   "execution_count": 11,
   "id": "b4f7f1a2",
   "metadata": {},
   "outputs": [
    {
     "data": {
      "text/plain": [
       "20"
      ]
     },
     "execution_count": 11,
     "metadata": {},
     "output_type": "execute_result"
    }
   ],
   "source": [
    "max=lambda a,b: a if a>b else b\n",
    "max(10,20)"
   ]
  },
  {
   "cell_type": "markdown",
   "id": "97043e59",
   "metadata": {},
   "source": [
    "# Pattern-5 ********Imp\n",
    "****Using List*****\n"
   ]
  },
  {
   "cell_type": "code",
   "execution_count": 17,
   "id": "101a1f4f",
   "metadata": {},
   "outputs": [
    {
     "data": {
      "text/plain": [
       "(<function __main__.<lambda>(i)>, ['hyd', 'chennai', 'mumbai'])"
      ]
     },
     "execution_count": 17,
     "metadata": {},
     "output_type": "execute_result"
    }
   ],
   "source": [
    "l=['hyd','chennai','mumbai']\n",
    "lambda i:i.capitalize(),l\n"
   ]
  },
  {
   "cell_type": "code",
   "execution_count": 20,
   "id": "cb1f8300",
   "metadata": {},
   "outputs": [
    {
     "data": {
      "text/plain": [
       "['Hyd', 'Chennai', 'Mumbai']"
      ]
     },
     "execution_count": 20,
     "metadata": {},
     "output_type": "execute_result"
    }
   ],
   "source": [
    "#Apply List\n",
    "l=['hyd','chennai','mumbai']\n",
    "list(map(lambda i:i.capitalize(),l))\n"
   ]
  },
  {
   "cell_type": "code",
   "execution_count": 21,
   "id": "559e527c",
   "metadata": {},
   "outputs": [
    {
     "data": {
      "text/plain": [
       "('Hyd', 'Chennai', 'Mumbai')"
      ]
     },
     "execution_count": 21,
     "metadata": {},
     "output_type": "execute_result"
    }
   ],
   "source": [
    "#Apply Tupple\n",
    "l=['hyd','chennai','mumbai']\n",
    "tuple(map(lambda i:i.capitalize(),l))"
   ]
  },
  {
   "cell_type": "markdown",
   "id": "9524f041",
   "metadata": {},
   "source": [
    "-Case1- Functon call with 1 Arg\n",
    "lambda arguments:Expression\n",
    "lambda varaibles:return output\n",
    "    \n",
    "Case2- Function call with 2 Arg\n",
    "lambda arg1, arg2: Expression\n",
    "lambda var1,var2: return output\n",
    "\n",
    "Case3- Function call with Default arg\n",
    "lambda arg1, arg2=500 : Expression\n",
    "lambda arg1,arg2=500: return output\n",
    "\n",
    "Case4- Function caall with 2 arguments and if-else statement\n",
    "lambda arg1,arg2: Expression\n",
    "lambda var1, var2: if_output if_con else else_op forloop\n",
    "\n",
    "Case5-Lambda operation using list\n",
    "lambda arg: Expression iterator\n",
    "map(lambda var:operatio, List)\n",
    "list(map(lambda var: operation, list))"
   ]
  },
  {
   "cell_type": "code",
   "execution_count": 2,
   "id": "dac0f523",
   "metadata": {},
   "outputs": [
    {
     "name": "stdout",
     "output_type": "stream",
     "text": [
      "chen#nai\n",
      "mum#bai\n"
     ]
    }
   ],
   "source": [
    "# Get values with # using lambda fx\n",
    "l=['hyd','chen#nai', 'mum#bai','blr']\n",
    "for i in l:\n",
    "    if '#' in i:\n",
    "        print (i)\n"
   ]
  },
  {
   "cell_type": "code",
   "execution_count": 3,
   "id": "a1079a69",
   "metadata": {},
   "outputs": [
    {
     "data": {
      "text/plain": [
       "[False, True, True, False]"
      ]
     },
     "execution_count": 3,
     "metadata": {},
     "output_type": "execute_result"
    }
   ],
   "source": [
    "l=['hyd','chen#nai', 'mum#bai','blr']\n",
    "list(map(lambda i:'#' in i,l))"
   ]
  },
  {
   "cell_type": "code",
   "execution_count": 4,
   "id": "4407ac6c",
   "metadata": {},
   "outputs": [
    {
     "data": {
      "text/plain": [
       "['chen#nai', 'mum#bai']"
      ]
     },
     "execution_count": 4,
     "metadata": {},
     "output_type": "execute_result"
    }
   ],
   "source": [
    "# FILTERS:- WHen ever if conditions are there use Filters to get resut: If you use MAp it willcheck condition and  give True & False only\n",
    "l=['hyd','chen#nai', 'mum#bai','blr']\n",
    "list(filter(lambda i:'#' in i,l))\n"
   ]
  },
  {
   "cell_type": "code",
   "execution_count": 6,
   "id": "d586a71c",
   "metadata": {},
   "outputs": [
    {
     "data": {
      "text/plain": [
       "[2, 6]"
      ]
     },
     "execution_count": 6,
     "metadata": {},
     "output_type": "execute_result"
    }
   ],
   "source": [
    "l=[1,3,2,7,6]\n",
    "list(filter(lambda i:i%2==0,l))"
   ]
  },
  {
   "cell_type": "code",
   "execution_count": 30,
   "id": "bc3ae1c0",
   "metadata": {},
   "outputs": [
    {
     "data": {
      "text/plain": [
       "15"
      ]
     },
     "execution_count": 30,
     "metadata": {},
     "output_type": "execute_result"
    }
   ],
   "source": [
    "# Sum of allelements of the list\n",
    "import functools\n",
    "l=[1,2,3,4,5]\n",
    "functools.reduce(lambda summ,i:summ+i,l)\n",
    "\n"
   ]
  },
  {
   "cell_type": "code",
   "execution_count": 33,
   "id": "a04a6c46",
   "metadata": {},
   "outputs": [
    {
     "data": {
      "text/plain": [
       "15"
      ]
     },
     "execution_count": 33,
     "metadata": {},
     "output_type": "execute_result"
    }
   ],
   "source": [
    "# Sum of allelements of the list\n",
    "import functools as ft\n",
    "l=[1,2,3,4,5]\n",
    "ft.reduce(lambda summ,i:summ+i,l)"
   ]
  },
  {
   "cell_type": "code",
   "execution_count": 32,
   "id": "a1287229",
   "metadata": {},
   "outputs": [
    {
     "data": {
      "text/plain": [
       "15"
      ]
     },
     "execution_count": 32,
     "metadata": {},
     "output_type": "execute_result"
    }
   ],
   "source": [
    "# Sum of allelements of the list\n",
    "\n",
    "l=[1,2,3,4,5]\n",
    "from functools import reduce\n",
    "reduce(lambda summ,i:summ+i,l)"
   ]
  },
  {
   "cell_type": "code",
   "execution_count": 34,
   "id": "e9766a79",
   "metadata": {},
   "outputs": [
    {
     "data": {
      "text/plain": [
       "17"
      ]
     },
     "execution_count": 34,
     "metadata": {},
     "output_type": "execute_result"
    }
   ],
   "source": [
    "# Sum of allelements of the list- Level 2 ie initail val of summis 2 instead of zero\n",
    "\n",
    "l=[1,2,3,4,5]\n",
    "from functools import reduce\n",
    "reduce(lambda summ,i:summ+i,l,2)"
   ]
  },
  {
   "cell_type": "code",
   "execution_count": null,
   "id": "63d33a71",
   "metadata": {},
   "outputs": [],
   "source": [
    "#Reduce- All inbuilt function can achieve by reduce. \n",
    "Its availabel from function tools package(functools)\n",
    "syntax reduce()\n",
    "level1:- reduce(lambda summ,i:summ+i,l)\n",
    "level2:- reduce(lambda summ,i:summ+i,l, initial value)\n",
    "if we want to initialize summ =0 then we need to use level 1\n",
    "if we want to initialize summ with some other value but not zero then we use level 2"
   ]
  },
  {
   "cell_type": "code",
   "execution_count": 27,
   "id": "b524c893",
   "metadata": {},
   "outputs": [
    {
     "data": {
      "text/plain": [
       "['GenericAlias',\n",
       " 'RLock',\n",
       " 'WRAPPER_ASSIGNMENTS',\n",
       " 'WRAPPER_UPDATES',\n",
       " '_CacheInfo',\n",
       " '_HashedSeq',\n",
       " '_NOT_FOUND',\n",
       " '__all__',\n",
       " '__builtins__',\n",
       " '__cached__',\n",
       " '__doc__',\n",
       " '__file__',\n",
       " '__loader__',\n",
       " '__name__',\n",
       " '__package__',\n",
       " '__spec__',\n",
       " '_c3_merge',\n",
       " '_c3_mro',\n",
       " '_compose_mro',\n",
       " '_convert',\n",
       " '_find_impl',\n",
       " '_ge_from_gt',\n",
       " '_ge_from_le',\n",
       " '_ge_from_lt',\n",
       " '_gt_from_ge',\n",
       " '_gt_from_le',\n",
       " '_gt_from_lt',\n",
       " '_initial_missing',\n",
       " '_le_from_ge',\n",
       " '_le_from_gt',\n",
       " '_le_from_lt',\n",
       " '_lru_cache_wrapper',\n",
       " '_lt_from_ge',\n",
       " '_lt_from_gt',\n",
       " '_lt_from_le',\n",
       " '_make_key',\n",
       " '_unwrap_partial',\n",
       " 'cache',\n",
       " 'cached_property',\n",
       " 'cmp_to_key',\n",
       " 'get_cache_token',\n",
       " 'lru_cache',\n",
       " 'namedtuple',\n",
       " 'partial',\n",
       " 'partialmethod',\n",
       " 'recursive_repr',\n",
       " 'reduce',\n",
       " 'singledispatch',\n",
       " 'singledispatchmethod',\n",
       " 'total_ordering',\n",
       " 'update_wrapper',\n",
       " 'wraps']"
      ]
     },
     "execution_count": 27,
     "metadata": {},
     "output_type": "execute_result"
    }
   ],
   "source": [
    "import functools\n",
    "dir(functools)\n"
   ]
  },
  {
   "cell_type": "code",
   "execution_count": 35,
   "id": "dd55af4e",
   "metadata": {},
   "outputs": [
    {
     "data": {
      "text/plain": [
       "120"
      ]
     },
     "execution_count": 35,
     "metadata": {},
     "output_type": "execute_result"
    }
   ],
   "source": [
    "# multiplication of all elements of the list\n",
    "\n",
    "l=[1,2,3,4,5]\n",
    "from functools import reduce\n",
    "reduce(lambda x,y:x*y,l)"
   ]
  },
  {
   "cell_type": "code",
   "execution_count": 36,
   "id": "c4a1d89d",
   "metadata": {},
   "outputs": [
    {
     "data": {
      "text/plain": [
       "<module 'functools' from 'C:\\\\Users\\\\abhis\\\\anaconda3\\\\lib\\\\functools.py'>"
      ]
     },
     "execution_count": 36,
     "metadata": {},
     "output_type": "execute_result"
    }
   ],
   "source": [
    "functools\n"
   ]
  },
  {
   "cell_type": "code",
   "execution_count": 37,
   "id": "480f7b28",
   "metadata": {},
   "outputs": [
    {
     "ename": "SyntaxError",
     "evalue": "invalid syntax (Temp/ipykernel_13968/1874287203.py, line 2)",
     "output_type": "error",
     "traceback": [
      "\u001b[1;36m  File \u001b[1;32m\"C:\\Users\\abhis\\AppData\\Local\\Temp/ipykernel_13968/1874287203.py\"\u001b[1;36m, line \u001b[1;32m2\u001b[0m\n\u001b[1;33m    Map fx/reduce/filter- Detailed word doc\u001b[0m\n\u001b[1;37m        ^\u001b[0m\n\u001b[1;31mSyntaxError\u001b[0m\u001b[1;31m:\u001b[0m invalid syntax\n"
     ]
    }
   ],
   "source": [
    "#MAx value using reduce\n",
    "Map fx/reduce/filter- Detailed word doc\n",
    "detail word doc"
   ]
  },
  {
   "cell_type": "code",
   "execution_count": null,
   "id": "78af31b6",
   "metadata": {},
   "outputs": [],
   "source": []
  },
  {
   "cell_type": "code",
   "execution_count": null,
   "id": "af0f1253",
   "metadata": {},
   "outputs": [],
   "source": []
  },
  {
   "cell_type": "code",
   "execution_count": null,
   "id": "e88067d7",
   "metadata": {},
   "outputs": [],
   "source": []
  },
  {
   "cell_type": "code",
   "execution_count": null,
   "id": "0c128a08",
   "metadata": {},
   "outputs": [],
   "source": []
  },
  {
   "cell_type": "code",
   "execution_count": null,
   "id": "e4e19015",
   "metadata": {},
   "outputs": [],
   "source": [
    "- ksk"
   ]
  }
 ],
 "metadata": {
  "kernelspec": {
   "display_name": "Python 3 (ipykernel)",
   "language": "python",
   "name": "python3"
  },
  "language_info": {
   "codemirror_mode": {
    "name": "ipython",
    "version": 3
   },
   "file_extension": ".py",
   "mimetype": "text/x-python",
   "name": "python",
   "nbconvert_exporter": "python",
   "pygments_lexer": "ipython3",
   "version": "3.9.7"
  }
 },
 "nbformat": 4,
 "nbformat_minor": 5
}
