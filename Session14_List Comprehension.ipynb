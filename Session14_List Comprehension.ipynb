{
 "cells": [
  {
   "cell_type": "markdown",
   "id": "14a4743c",
   "metadata": {},
   "source": [
    "#List Comprehension\n",
    "-We can store output value using append operation\n",
    "-We are taking empty list & we are iterating through element from a given ist\n",
    "-The result we are appending in a new list"
   ]
  },
  {
   "cell_type": "code",
   "execution_count": 5,
   "id": "81a0eb29",
   "metadata": {},
   "outputs": [
    {
     "data": {
      "text/plain": [
       "[0, 1, 4, 9, 16, 25, 36, 49, 64, 81]"
      ]
     },
     "execution_count": 5,
     "metadata": {},
     "output_type": "execute_result"
    }
   ],
   "source": [
    "#quare=[]\n",
    "#for i in range(10):\n",
    " #   square.append(i**2)\n",
    "#square\n",
    "\n",
    "#There are 3 lines in progress\n",
    "#These 3 lines can be converted in to 1 line\n",
    "#This is called List Comprehension\n",
    "# Syntax:-  [<output> <for Loop>]\n",
    "#In aove example what is output:? Ans:- i*i\n",
    "# What is the output List Name >:- Ans:- square\n",
    "#What is the for loop? Ans:- for i in range(10)\n",
    "\n",
    "square=[i*i for i in range(10)]\n",
    "square"
   ]
  },
  {
   "cell_type": "code",
   "execution_count": 12,
   "id": "261f4334",
   "metadata": {},
   "outputs": [
    {
     "data": {
      "text/plain": [
       "['HYD', 'MUMBAI', 'CHENNAI', 'BLR']"
      ]
     },
     "execution_count": 12,
     "metadata": {},
     "output_type": "execute_result"
    }
   ],
   "source": [
    "#l1=['hyd', 'mumbai', 'chennai', 'blr']--> Convert to upper cse\n",
    "L1=['hyd', 'mumbai', 'chennai', 'blr']\n",
    "Upper=[]\n",
    "Upper=[i.upper() for i in L1]\n",
    "Upper"
   ]
  },
  {
   "cell_type": "code",
   "execution_count": 13,
   "id": "d56f7d12",
   "metadata": {},
   "outputs": [
    {
     "data": {
      "text/plain": [
       "['hyd', 'mumbai', 'chennai', 'blr']"
      ]
     },
     "execution_count": 13,
     "metadata": {},
     "output_type": "execute_result"
    }
   ],
   "source": [
    "#l1=['Hyd', 'Mumbai', 'Chennai', 'Blr']--> Convert to lower cse\n",
    "L1=['Hyd', 'Mumbai', 'Chennai', 'Blr']\n",
    "Lower=[]\n",
    "Lower=[i.lower() for i in L1]\n",
    "Lower"
   ]
  },
  {
   "cell_type": "code",
   "execution_count": 17,
   "id": "20afbe22",
   "metadata": {},
   "outputs": [
    {
     "name": "stdout",
     "output_type": "stream",
     "text": [
      "0\n",
      "1\n",
      "2\n",
      "3\n"
     ]
    },
    {
     "data": {
      "text/plain": [
       "6"
      ]
     },
     "execution_count": 17,
     "metadata": {},
     "output_type": "execute_result"
    }
   ],
   "source": [
    "#l1=['Hyd', 'Mumbai', 'Chennai', 'Blr']--> Sum Of Indexes of all element\n",
    "sum=0\n",
    "l1=['Hyd', 'Mumbai', 'Chennai', 'Blr']\n",
    "#sum=(sum=sum+i for i in range(len(l1)))\n",
    "for i in range(len(l1)):\n",
    "    print(i)\n",
    "    sum=sum+i\n",
    "sum\n"
   ]
  },
  {
   "cell_type": "code",
   "execution_count": 3,
   "id": "57e6ec67",
   "metadata": {},
   "outputs": [
    {
     "data": {
      "text/plain": [
       "6"
      ]
     },
     "execution_count": 3,
     "metadata": {},
     "output_type": "execute_result"
    }
   ],
   "source": [
    "l1=['Hyd', 'Mumbai', 'Chennai', 'Blr']\n",
    "Sum_List=[i for i in range(len(l1))]\n",
    "sum(Sum_List)\n"
   ]
  },
  {
   "cell_type": "code",
   "execution_count": null,
   "id": "a2263ca8",
   "metadata": {},
   "outputs": [],
   "source": [
    "#Making empty list will not work in Comprehension\n",
    "#Initialization will not work in Comprehension\n",
    "#Assignment Operation will not work in Comprehension"
   ]
  },
  {
   "cell_type": "markdown",
   "id": "1f47ffef",
   "metadata": {},
   "source": [
    "# PATTERN 2\n",
    "-for loop-if condition\n",
    "<output>  <for loop> <if condition>"
   ]
  },
  {
   "cell_type": "code",
   "execution_count": 6,
   "id": "23d87773",
   "metadata": {},
   "outputs": [
    {
     "data": {
      "text/plain": [
       "['Mumbai', 'Chennai']"
      ]
     },
     "execution_count": 6,
     "metadata": {},
     "output_type": "execute_result"
    }
   ],
   "source": [
    "#l1=['Hyd', 'Mumbai', 'Chennai', 'Blr']--> find elements length>4\n",
    "#l1=['Hyd', 'Mumbai', 'Chennai', 'Blr']\n",
    "#list1=[]\n",
    "#for i in l1:\n",
    "#    if len(i)>4:\n",
    "#        print(i)\n",
    "l1=['Hyd', 'Mumbai', 'Chennai', 'Blr']\n",
    "list1=[]\n",
    "list1=[i for i in l1 if len(i)>4]\n",
    "list1"
   ]
  },
  {
   "cell_type": "code",
   "execution_count": 13,
   "id": "2010bdf5",
   "metadata": {},
   "outputs": [
    {
     "data": {
      "text/plain": [
       "['Mum#bai', 'Chen#nai']"
      ]
     },
     "execution_count": 13,
     "metadata": {},
     "output_type": "execute_result"
    }
   ],
   "source": [
    "#l1=['Hyd', 'Mum#bai', 'Chen#nai', 'Blr']--> Find element with #\n",
    "L1=['Hyd', 'Mum#bai', 'Chen#nai', 'Blr']\n",
    "list2=[ i for i in L1   if i.find('#')>=0]\n",
    "list2"
   ]
  },
  {
   "cell_type": "code",
   "execution_count": 12,
   "id": "0ebbac38",
   "metadata": {},
   "outputs": [
    {
     "data": {
      "text/plain": [
       "['Mum#bai', 'Chen#nai']"
      ]
     },
     "execution_count": 12,
     "metadata": {},
     "output_type": "execute_result"
    }
   ],
   "source": [
    "#dir (' ')\n",
    "\n",
    "L1=['Hyd', 'Mum#bai', 'Chen#nai', 'Blr']\n",
    "list2=[ i for i in L1   if i.find('#')>=0]\n",
    "list2"
   ]
  },
  {
   "cell_type": "code",
   "execution_count": 18,
   "id": "b455dc25",
   "metadata": {},
   "outputs": [
    {
     "data": {
      "text/plain": [
       "['Hyd', 'Mumbai']"
      ]
     },
     "execution_count": 18,
     "metadata": {},
     "output_type": "execute_result"
    }
   ],
   "source": [
    "#l1=['Hyd', 'Mum#bai', 'Chen#nai', 'Blr']--> Find element with first letter as capital\n",
    "L1=['Hyd', 'Mumbai', 'chen#nai', 'blr']\n",
    "list2=[ i for i in L1   if i.istitle()]\n",
    "list2"
   ]
  },
  {
   "cell_type": "code",
   "execution_count": 32,
   "id": "ceeca79b",
   "metadata": {},
   "outputs": [
    {
     "ename": "IndentationError",
     "evalue": "unexpected indent (Temp/ipykernel_13372/1128860117.py, line 2)",
     "output_type": "error",
     "traceback": [
      "\u001b[1;36m  File \u001b[1;32m\"C:\\Users\\abhis\\AppData\\Local\\Temp/ipykernel_13372/1128860117.py\"\u001b[1;36m, line \u001b[1;32m2\u001b[0m\n\u001b[1;33m    Str1= 'Virat.Kohli@rcb.com,Rohit.Sharma@mi.com,KL.Rahul@lucknow.com'\u001b[0m\n\u001b[1;37m    ^\u001b[0m\n\u001b[1;31mIndentationError\u001b[0m\u001b[1;31m:\u001b[0m unexpected indent\n"
     ]
    }
   ],
   "source": [
    "# Str1= 'Virat.Kohli@rcb.com', 'Rohit.Sharma@mi.com','KL.Rahul@lucknow.com'\n",
    "    Str1= 'Virat.Kohli@rcb.com,Rohit.Sharma@mi.com,KL.Rahul@lucknow.com'\n",
    "    list1=Str1.split(',')\n",
    "    fname=[i[:i.index('.')] for i in list1]\n",
    "    fname\n",
    "    lname=[i[i.index('.')+1:i.index('@')] for i in list1]\n",
    "    lname\n",
    "    cname=[i[i.index('@')+1:i.index('.',i.index('@'))] for i in list1]\n",
    "    cname"
   ]
  },
  {
   "cell_type": "markdown",
   "id": "5a5e15f5",
   "metadata": {},
   "source": [
    "# PATTERN3\n",
    "<ifoutput>  <if>  <else>   <else_output>  <for>:  if-else"
   ]
  },
  {
   "cell_type": "code",
   "execution_count": 33,
   "id": "e8e7baf1",
   "metadata": {},
   "outputs": [
    {
     "ename": "SyntaxError",
     "evalue": "closing parenthesis ']' does not match opening parenthesis '(' (Temp/ipykernel_13372/3947941481.py, line 3)",
     "output_type": "error",
     "traceback": [
      "\u001b[1;36m  File \u001b[1;32m\"C:\\Users\\abhis\\AppData\\Local\\Temp/ipykernel_13372/3947941481.py\"\u001b[1;36m, line \u001b[1;32m3\u001b[0m\n\u001b[1;33m    [op_list.append(f\"even:{i}\") if i%2 else op_list.append(f\"odd:{i})\"  for i in range(20)]\u001b[0m\n\u001b[1;37m                                                                                           ^\u001b[0m\n\u001b[1;31mSyntaxError\u001b[0m\u001b[1;31m:\u001b[0m closing parenthesis ']' does not match opening parenthesis '('\n"
     ]
    }
   ],
   "source": [
    "#iEvn or Odd\n",
    "op_list=[]\n",
    "[op_list.append(f\"even:{i}\") if i%2 else op_list.append(f\"odd:{i})\"  for i in range(20)]\n",
    "print(op_list)"
   ]
  },
  {
   "cell_type": "code",
   "execution_count": null,
   "id": "7051ff62",
   "metadata": {},
   "outputs": [],
   "source": []
  }
 ],
 "metadata": {
  "kernelspec": {
   "display_name": "Python 3 (ipykernel)",
   "language": "python",
   "name": "python3"
  },
  "language_info": {
   "codemirror_mode": {
    "name": "ipython",
    "version": 3
   },
   "file_extension": ".py",
   "mimetype": "text/x-python",
   "name": "python",
   "nbconvert_exporter": "python",
   "pygments_lexer": "ipython3",
   "version": "3.9.7"
  }
 },
 "nbformat": 4,
 "nbformat_minor": 5
}
