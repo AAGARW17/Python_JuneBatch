{
 "cells": [
  {
   "cell_type": "code",
   "execution_count": 2,
   "id": "5d4843ed",
   "metadata": {},
   "outputs": [
    {
     "ename": "SyntaxError",
     "evalue": "invalid syntax (Temp/ipykernel_13480/3123497360.py, line 2)",
     "output_type": "error",
     "traceback": [
      "\u001b[1;36m  File \u001b[1;32m\"C:\\Users\\abhis\\AppData\\Local\\Temp/ipykernel_13480/3123497360.py\"\u001b[1;36m, line \u001b[1;32m2\u001b[0m\n\u001b[1;33m    dir '[]'\u001b[0m\n\u001b[1;37m        ^\u001b[0m\n\u001b[1;31mSyntaxError\u001b[0m\u001b[1;31m:\u001b[0m invalid syntax\n"
     ]
    }
   ],
   "source": [
    "# Methods\n",
    "dir '[]'\n"
   ]
  },
  {
   "cell_type": "code",
   "execution_count": 35,
   "id": "c90a626b",
   "metadata": {},
   "outputs": [
    {
     "ename": "AttributeError",
     "evalue": "'list' object has no attribute 'sorted'",
     "output_type": "error",
     "traceback": [
      "\u001b[1;31m---------------------------------------------------------------------------\u001b[0m",
      "\u001b[1;31mAttributeError\u001b[0m                            Traceback (most recent call last)",
      "\u001b[1;32m~\\AppData\\Local\\Temp/ipykernel_13480/1959397937.py\u001b[0m in \u001b[0;36m<module>\u001b[1;34m\u001b[0m\n\u001b[0;32m     46\u001b[0m \u001b[1;31m#Sorted\u001b[0m\u001b[1;33m\u001b[0m\u001b[1;33m\u001b[0m\u001b[0m\n\u001b[0;32m     47\u001b[0m \u001b[0mstr1\u001b[0m\u001b[1;33m=\u001b[0m\u001b[1;33m[\u001b[0m\u001b[1;34m'A'\u001b[0m\u001b[1;33m,\u001b[0m\u001b[1;34m'B'\u001b[0m\u001b[1;33m,\u001b[0m\u001b[1;34m'C'\u001b[0m\u001b[1;33m,\u001b[0m\u001b[1;34m'A'\u001b[0m\u001b[1;33m,\u001b[0m\u001b[1;34m'B'\u001b[0m\u001b[1;33m]\u001b[0m\u001b[1;33m\u001b[0m\u001b[1;33m\u001b[0m\u001b[0m\n\u001b[1;32m---> 48\u001b[1;33m \u001b[0mstr1\u001b[0m\u001b[1;33m.\u001b[0m\u001b[0msorted\u001b[0m\u001b[1;33m(\u001b[0m\u001b[1;33m)\u001b[0m\u001b[1;33m\u001b[0m\u001b[1;33m\u001b[0m\u001b[0m\n\u001b[0m\u001b[0;32m     49\u001b[0m \u001b[0mstr1\u001b[0m\u001b[1;33m\u001b[0m\u001b[1;33m\u001b[0m\u001b[0m\n",
      "\u001b[1;31mAttributeError\u001b[0m: 'list' object has no attribute 'sorted'"
     ]
    }
   ],
   "source": [
    "#Append Vs extens Vs Concatenation Vs insert\n",
    "#Pop Vs remove\n",
    "#Sort Vs sorted\n",
    "#reverse Vs reversed\n",
    "#index\n",
    "#count\n",
    "#Clear Vs copy\n",
    "\n",
    "#Clear\n",
    "str1=[1,2,3,4,'A','B','C']\n",
    "str1.clear()\n",
    "str1\n",
    "\n",
    "#Copy\n",
    "str2=[1,2,3,4,'A','B','C']\n",
    "str2.copy()\n",
    "\n",
    "#Index\n",
    "str1=[1,2,3,4,'A','B','C','A','B']\n",
    "str1.index('A')\n",
    "\n",
    "str1=[1,2,3,4,'A','B','C','A','B']\n",
    "str1.index('A',4)\n",
    "\n",
    "str1=[1,2,3,4,'A','B','C','A','B']\n",
    "#str1.index('A',5,6)\n",
    "\n",
    "str1=[1,2,3,4,'A','B','C','A','B']\n",
    "str1.index('A',5,8)\n",
    "\n",
    "#Reverse\n",
    "str1=[1,2,3,4,'A','B','C','A','B']\n",
    "str1.reverse()\n",
    "str1\n",
    "\n",
    "#Reversed ???????????????????????????????????????????\n",
    "str1=[1,2,3,4,'A','B','C','A','B']\n",
    "#str1.reversed()\n",
    "str1\n",
    "\n",
    "#Sort\n",
    "str1=['A','B','C','A','B']\n",
    "str1.sort()\n",
    "str1\n",
    "\n",
    "#Sorted\n",
    "str1=['A','B','C','A','B']\n",
    "str1.sorted()\n",
    "str1"
   ]
  },
  {
   "cell_type": "code",
   "execution_count": 42,
   "id": "9488e91b",
   "metadata": {},
   "outputs": [
    {
     "name": "stdout",
     "output_type": "stream",
     "text": [
      "[1, 2, 3, 4, 'A', 'B', 'C', 'D']\n",
      "['A', 'B', 'C', 'D', 1, 2, 3, 4]\n",
      "[1, 2, 3, 4]\n",
      "['A', 'B', 'C', 'D']\n",
      "[1, 2, 3, 4, 'A', 'B', 'C', 'D']\n",
      "['A', 'B', 'C', 'D']\n",
      "[1, 2, 3, 4]\n",
      "['A', 'B', 'C', 'D', 1, 2, 3, 4]\n",
      "[1, 2, 3, 4, 'A', 'p', 'p', 'l', 'e']\n"
     ]
    }
   ],
   "source": [
    "# Append , Extends, Concatenation\n",
    "l1=[1,2,3,4]\n",
    "l2=['A','B','C','D']\n",
    "print(l1+l2)\n",
    "print(l2+l1)\n",
    "print(l1)\n",
    "print(l2)\n",
    "\n",
    "\n",
    "l1=[1,2,3,4]\n",
    "l2=['A','B','C','D']\n",
    "l1.extend(l2)\n",
    "print(l1)\n",
    "print(l2)\n",
    "\n",
    "l1=[1,2,3,4]\n",
    "l2=['A','B','C','D']\n",
    "l2.extend(l1)\n",
    "print(l1)\n",
    "print(l2)\n",
    "\n",
    "\n",
    "\n",
    "l1=[1,2,3,4]\n",
    "l1.extend('Apple')\n",
    "print(l1)\n",
    "\n",
    "#Append just append value with base data type value\n"
   ]
  },
  {
   "cell_type": "code",
   "execution_count": 4,
   "id": "d70ad0c7",
   "metadata": {},
   "outputs": [
    {
     "data": {
      "text/plain": [
       "[1, 2, 3, 4, 'Z', 'A', 'Z', 'B', 'C', 'A', 'B']"
      ]
     },
     "execution_count": 4,
     "metadata": {},
     "output_type": "execute_result"
    }
   ],
   "source": [
    "#pop-reove-del\n",
    "#Insert:- Will insert the element based on Index\n",
    "#Append :- will add elemengt in the last only\n",
    "str1=[1,2,3,4,'A','B','C','A','B']\n",
    "str1.insert(4,'Z')\n",
    "str1\n",
    "l1=str1.index('B')\n",
    "\n",
    "str1.insert(l1,'Z')\n",
    "str1"
   ]
  },
  {
   "cell_type": "code",
   "execution_count": 8,
   "id": "e5eb8bd8",
   "metadata": {},
   "outputs": [
    {
     "data": {
      "text/plain": [
       "[1, 2, 3, 'Apple', 10, 20, 'Orange', 'Apple', 40]"
      ]
     },
     "execution_count": 8,
     "metadata": {},
     "output_type": "execute_result"
    }
   ],
   "source": [
    "l1=[1,2,3,'Apple',10,20,'Apple',40]\n",
    "l2=l1.index('Apple')\n",
    "l3=l1.index('Apple',l2+1)\n",
    "l1.insert(l3,'Orange')\n",
    "l1\n"
   ]
  },
  {
   "cell_type": "code",
   "execution_count": 9,
   "id": "d58f432a",
   "metadata": {},
   "outputs": [
    {
     "data": {
      "text/plain": [
       "['__add__',\n",
       " '__class__',\n",
       " '__class_getitem__',\n",
       " '__contains__',\n",
       " '__delattr__',\n",
       " '__delitem__',\n",
       " '__dir__',\n",
       " '__doc__',\n",
       " '__eq__',\n",
       " '__format__',\n",
       " '__ge__',\n",
       " '__getattribute__',\n",
       " '__getitem__',\n",
       " '__gt__',\n",
       " '__hash__',\n",
       " '__iadd__',\n",
       " '__imul__',\n",
       " '__init__',\n",
       " '__init_subclass__',\n",
       " '__iter__',\n",
       " '__le__',\n",
       " '__len__',\n",
       " '__lt__',\n",
       " '__mul__',\n",
       " '__ne__',\n",
       " '__new__',\n",
       " '__reduce__',\n",
       " '__reduce_ex__',\n",
       " '__repr__',\n",
       " '__reversed__',\n",
       " '__rmul__',\n",
       " '__setattr__',\n",
       " '__setitem__',\n",
       " '__sizeof__',\n",
       " '__str__',\n",
       " '__subclasshook__',\n",
       " 'append',\n",
       " 'clear',\n",
       " 'copy',\n",
       " 'count',\n",
       " 'extend',\n",
       " 'index',\n",
       " 'insert',\n",
       " 'pop',\n",
       " 'remove',\n",
       " 'reverse',\n",
       " 'sort']"
      ]
     },
     "execution_count": 9,
     "metadata": {},
     "output_type": "execute_result"
    }
   ],
   "source": [
    "dir([])"
   ]
  },
  {
   "cell_type": "code",
   "execution_count": 11,
   "id": "7485bad0",
   "metadata": {},
   "outputs": [
    {
     "data": {
      "text/plain": [
       "[1, 2, 3, 'Apple', 10, 20, 'Orange', 'Apple']"
      ]
     },
     "execution_count": 11,
     "metadata": {},
     "output_type": "execute_result"
    }
   ],
   "source": [
    "#Pop will remove & display item which is being removed\n",
    "#Pop will need 1 argument 'index'\n",
    "#If no index is provided by default it willremove last value coz default index value is -1\n",
    "l1=[1, 2, 3, 'Apple', 10, 20, 'Orange', 'Apple', 40]\n",
    "l1.pop()\n",
    "l1"
   ]
  },
  {
   "cell_type": "code",
   "execution_count": 14,
   "id": "0ba5ec04",
   "metadata": {},
   "outputs": [
    {
     "data": {
      "text/plain": [
       "[1, 2, 3, 10, 20, 'Orange', 40]"
      ]
     },
     "execution_count": 14,
     "metadata": {},
     "output_type": "execute_result"
    }
   ],
   "source": [
    "l1=[1, 2, 3, 'Apple', 10, 20, 'Orange', 'Apple', 40]\n",
    "l2=l1.index('Apple')\n",
    "l1.pop(l2)\n",
    "l2=l1.index('Apple')\n",
    "l1.pop(l2)\n",
    "l1\n"
   ]
  },
  {
   "cell_type": "code",
   "execution_count": 26,
   "id": "6be655e9",
   "metadata": {},
   "outputs": [
    {
     "name": "stdout",
     "output_type": "stream",
     "text": [
      "['hai', 'apple', 'how', 'are', 'you', 'apple', 'i', 'am', 'good', 'apple', 'thank', 'you', 'apple']\n",
      "0\n",
      "1\n",
      "2\n",
      "3\n",
      "4\n",
      "5\n",
      "6\n",
      "7\n",
      "8\n",
      "9\n",
      "10\n"
     ]
    },
    {
     "ename": "IndexError",
     "evalue": "list index out of range",
     "output_type": "error",
     "traceback": [
      "\u001b[1;31m---------------------------------------------------------------------------\u001b[0m",
      "\u001b[1;31mIndexError\u001b[0m                                Traceback (most recent call last)",
      "\u001b[1;32m~\\AppData\\Local\\Temp/ipykernel_16312/3212618853.py\u001b[0m in \u001b[0;36m<module>\u001b[1;34m\u001b[0m\n\u001b[0;32m      4\u001b[0m \u001b[1;32mfor\u001b[0m \u001b[0mi\u001b[0m \u001b[1;32min\u001b[0m \u001b[0mrange\u001b[0m\u001b[1;33m(\u001b[0m\u001b[0mlen\u001b[0m\u001b[1;33m(\u001b[0m\u001b[0mstr2\u001b[0m\u001b[1;33m)\u001b[0m\u001b[1;33m)\u001b[0m\u001b[1;33m:\u001b[0m\u001b[1;33m\u001b[0m\u001b[1;33m\u001b[0m\u001b[0m\n\u001b[0;32m      5\u001b[0m     \u001b[0mprint\u001b[0m\u001b[1;33m(\u001b[0m\u001b[0mi\u001b[0m\u001b[1;33m)\u001b[0m\u001b[1;33m\u001b[0m\u001b[1;33m\u001b[0m\u001b[0m\n\u001b[1;32m----> 6\u001b[1;33m     \u001b[1;32mif\u001b[0m \u001b[0mstr2\u001b[0m\u001b[1;33m[\u001b[0m\u001b[0mi\u001b[0m\u001b[1;33m]\u001b[0m\u001b[1;33m==\u001b[0m\u001b[1;34m'apple'\u001b[0m\u001b[1;33m:\u001b[0m\u001b[1;33m\u001b[0m\u001b[1;33m\u001b[0m\u001b[0m\n\u001b[0m\u001b[0;32m      7\u001b[0m         \u001b[0mstr2\u001b[0m\u001b[1;33m.\u001b[0m\u001b[0mpop\u001b[0m\u001b[1;33m(\u001b[0m\u001b[0mi\u001b[0m\u001b[1;33m)\u001b[0m\u001b[1;33m\u001b[0m\u001b[1;33m\u001b[0m\u001b[0m\n\u001b[0;32m      8\u001b[0m \u001b[1;34m' '\u001b[0m\u001b[1;33m.\u001b[0m\u001b[0mjoin\u001b[0m\u001b[1;33m(\u001b[0m\u001b[0mstr2\u001b[0m\u001b[1;33m)\u001b[0m\u001b[1;33m\u001b[0m\u001b[1;33m\u001b[0m\u001b[0m\n",
      "\u001b[1;31mIndexError\u001b[0m: list index out of range"
     ]
    }
   ],
   "source": [
    "str1='hai apple how are you apple i am good apple thank you apple'\n",
    "str2=str1.split()\n",
    "print(str2)\n",
    "for i in range(len(str2)):\n",
    "    print(i)\n",
    "    if str2[i]=='apple':\n",
    "        str2.pop(i)\n",
    "' '.join(str2)\n",
    "str2"
   ]
  },
  {
   "cell_type": "code",
   "execution_count": null,
   "id": "ad067c70",
   "metadata": {},
   "outputs": [],
   "source": [
    "#Removed:- This will delete first occurance of the element\n",
    "#Delis "
   ]
  }
 ],
 "metadata": {
  "kernelspec": {
   "display_name": "Python 3 (ipykernel)",
   "language": "python",
   "name": "python3"
  },
  "language_info": {
   "codemirror_mode": {
    "name": "ipython",
    "version": 3
   },
   "file_extension": ".py",
   "mimetype": "text/x-python",
   "name": "python",
   "nbconvert_exporter": "python",
   "pygments_lexer": "ipython3",
   "version": "3.9.7"
  }
 },
 "nbformat": 4,
 "nbformat_minor": 5
}
