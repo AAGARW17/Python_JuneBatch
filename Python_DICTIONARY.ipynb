{
 "cells": [
  {
   "cell_type": "markdown",
   "id": "ee3c5f7f",
   "metadata": {},
   "source": [
    "# DICTIONARY\n",
    "- string ' '\n",
    "- list []\n",
    "- tuple ()\n",
    "- set {}\n",
    "- dictionary {key:value}"
   ]
  },
  {
   "cell_type": "code",
   "execution_count": 6,
   "id": "7bc2a0bd",
   "metadata": {},
   "outputs": [
    {
     "name": "stdout",
     "output_type": "stream",
     "text": [
      "Ramesh 20\n",
      "Suresh 30\n",
      "Prakash 40\n"
     ]
    },
    {
     "data": {
      "text/plain": [
       "[('Ramesh', 20), ('Suresh', 30), ('Prakash', 40)]"
      ]
     },
     "execution_count": 6,
     "metadata": {},
     "output_type": "execute_result"
    }
   ],
   "source": [
    "# ZIP\n",
    "#Python zip() method takes iterable containers and returns a single iterator object, having mapped values from all the containers.\n",
    "#It is used to map the similar index of multiple containers so that they can be used just using a single entity.\n",
    "# ** If multiple List length is not equal/same then Zip will not work \n",
    "names=['Ramesh', 'Suresh','Prakash']\n",
    "age=[20,30,40]\n",
    "for i,j in zip(names,age):\n",
    "    print(i,j)\n",
    "    \n",
    "list(zip(names,age))"
   ]
  },
  {
   "cell_type": "code",
   "execution_count": 7,
   "id": "ca1a192e",
   "metadata": {},
   "outputs": [
    {
     "ename": "SyntaxError",
     "evalue": "invalid syntax (Temp/ipykernel_10368/1885018428.py, line 9)",
     "output_type": "error",
     "traceback": [
      "\u001b[1;36m  File \u001b[1;32m\"C:\\Users\\abhis\\AppData\\Local\\Temp/ipykernel_10368/1885018428.py\"\u001b[1;36m, line \u001b[1;32m9\u001b[0m\n\u001b[1;33m    d1=['Ramesh':20, 'Suresh':30,'Prakash':40]\u001b[0m\n\u001b[1;37m                ^\u001b[0m\n\u001b[1;31mSyntaxError\u001b[0m\u001b[1;31m:\u001b[0m invalid syntax\n"
     ]
    }
   ],
   "source": [
    "# INITIALIZATION\n",
    "# Create all possible types  of dictionary\n",
    "#Keys should be unique\n",
    "# Values can be duplicate; ie diff keys can have same value3\n",
    "# List Cannot be a Key, coz ist are mutable \n",
    "#Tuple Can be a Key coz they are immutable\n",
    "#In order to get value from dictionary ,use the key.\n",
    "\n",
    "\n",
    "d1=['Ramesh':20, 'Suresh':30,'Prakash':40]\n",
    "d2=['Ramesh':'20', 'Suresh':'30','Prakash':'40']\n",
    "\n",
    "d3=[20:'Ramesh', 30:'Suresh',40:'Prakash']\n",
    "d4={25:50}\n",
    "d5={'Fruits',['Apple','Cherry']}\n",
    "d6={['Apple','Cherry']:'Fruits'}\n",
    "d7={('Apple','Cherry'):'Fruits'}\n",
    "d8={'Ajay':25, 'Ajay':30}\n",
    "d9={25:'Ajay', 30:'Ajay'}\n",
    "d10={'Fruites':{'Mango':25}}\n",
    "\n"
   ]
  },
  {
   "cell_type": "code",
   "execution_count": 11,
   "id": "46d4234f",
   "metadata": {},
   "outputs": [
    {
     "data": {
      "text/plain": [
       "'Suresh'"
      ]
     },
     "execution_count": 11,
     "metadata": {},
     "output_type": "execute_result"
    }
   ],
   "source": [
    "d1={'Ramesh':20, 'Suresh':30,'Prakash':40}\n",
    "\n",
    "\n",
    "\n",
    "max(d1)"
   ]
  },
  {
   "cell_type": "code",
   "execution_count": 12,
   "id": "35569acc",
   "metadata": {},
   "outputs": [
    {
     "data": {
      "text/plain": [
       "'Suresh'"
      ]
     },
     "execution_count": 12,
     "metadata": {},
     "output_type": "execute_result"
    }
   ],
   "source": [
    "d2={'Ramesh':'20', 'Suresh':'30','Prakash':'40'}\n",
    "max(d2)"
   ]
  },
  {
   "cell_type": "code",
   "execution_count": 13,
   "id": "0bcb9ac7",
   "metadata": {},
   "outputs": [
    {
     "data": {
      "text/plain": [
       "40"
      ]
     },
     "execution_count": 13,
     "metadata": {},
     "output_type": "execute_result"
    }
   ],
   "source": [
    "d3={20:'Ramesh', 30:'Suresh',40:'Prakash'}\n",
    "max(d3)"
   ]
  },
  {
   "cell_type": "code",
   "execution_count": 15,
   "id": "b11c58a5",
   "metadata": {},
   "outputs": [
    {
     "data": {
      "text/plain": [
       "'Suresh'"
      ]
     },
     "execution_count": 15,
     "metadata": {},
     "output_type": "execute_result"
    }
   ],
   "source": [
    "d4={'Ramesh':20, 'Suresh':'30','Prakash':40}\n",
    "max(d4)"
   ]
  },
  {
   "cell_type": "code",
   "execution_count": 16,
   "id": "fba1b33d",
   "metadata": {},
   "outputs": [
    {
     "ename": "TypeError",
     "evalue": "'>' not supported between instances of 'str' and 'int'",
     "output_type": "error",
     "traceback": [
      "\u001b[1;31m---------------------------------------------------------------------------\u001b[0m",
      "\u001b[1;31mTypeError\u001b[0m                                 Traceback (most recent call last)",
      "\u001b[1;32m~\\AppData\\Local\\Temp/ipykernel_10368/1107766418.py\u001b[0m in \u001b[0;36m<module>\u001b[1;34m\u001b[0m\n\u001b[0;32m      1\u001b[0m \u001b[0md5\u001b[0m\u001b[1;33m=\u001b[0m\u001b[1;33m{\u001b[0m\u001b[1;36m20\u001b[0m\u001b[1;33m:\u001b[0m\u001b[1;34m'Ramesh'\u001b[0m\u001b[1;33m,\u001b[0m \u001b[1;34m'30'\u001b[0m\u001b[1;33m:\u001b[0m\u001b[1;34m'Suresh'\u001b[0m\u001b[1;33m,\u001b[0m\u001b[1;36m40\u001b[0m\u001b[1;33m:\u001b[0m\u001b[1;34m'Prakash'\u001b[0m\u001b[1;33m}\u001b[0m\u001b[1;33m\u001b[0m\u001b[1;33m\u001b[0m\u001b[0m\n\u001b[1;32m----> 2\u001b[1;33m \u001b[0mmax\u001b[0m\u001b[1;33m(\u001b[0m\u001b[0md5\u001b[0m\u001b[1;33m)\u001b[0m\u001b[1;33m\u001b[0m\u001b[1;33m\u001b[0m\u001b[0m\n\u001b[0m",
      "\u001b[1;31mTypeError\u001b[0m: '>' not supported between instances of 'str' and 'int'"
     ]
    }
   ],
   "source": [
    "d5={20:'Ramesh', '30':'Suresh',40:'Prakash'}\n",
    "max(d5)"
   ]
  },
  {
   "cell_type": "code",
   "execution_count": 17,
   "id": "ea963071",
   "metadata": {},
   "outputs": [
    {
     "data": {
      "text/plain": [
       "20"
      ]
     },
     "execution_count": 17,
     "metadata": {},
     "output_type": "execute_result"
    }
   ],
   "source": [
    "d6={20:'Ramesh', 20:'Suresh',20:'Prakash'}\n",
    "max(d6)"
   ]
  },
  {
   "cell_type": "code",
   "execution_count": 21,
   "id": "4be82216",
   "metadata": {},
   "outputs": [
    {
     "data": {
      "text/plain": [
       "['Prakash', 'Suresh', 'Ramesh']"
      ]
     },
     "execution_count": 21,
     "metadata": {},
     "output_type": "execute_result"
    }
   ],
   "source": [
    "#Reversed- ONly keys willcome in reversed\n",
    "\n",
    "d1={'Ramesh':20, 'Suresh':30,'Prakash':40}\n",
    "list(reversed(d1))\n",
    "\n",
    "d2={'Ramesh':'20', 'Suresh':'30','Prakash':'40'}\n",
    "list(reversed(d2))"
   ]
  },
  {
   "cell_type": "code",
   "execution_count": 22,
   "id": "b6fa743b",
   "metadata": {},
   "outputs": [
    {
     "data": {
      "text/plain": [
       "['Prakash', 'Ramesh', 'Suresh']"
      ]
     },
     "execution_count": 22,
     "metadata": {},
     "output_type": "execute_result"
    }
   ],
   "source": [
    "# Sorted\n",
    "\n",
    "d1={'Ramesh':20, 'Suresh':30,'Prakash':40}\n",
    "sorted(d1)\n",
    "\n",
    "\n"
   ]
  },
  {
   "cell_type": "code",
   "execution_count": 23,
   "id": "b0337c1b",
   "metadata": {},
   "outputs": [
    {
     "data": {
      "text/plain": [
       "['Suresh', 'Ramesh', 'Prakash']"
      ]
     },
     "execution_count": 23,
     "metadata": {},
     "output_type": "execute_result"
    }
   ],
   "source": [
    "\n",
    "d1={'Ramesh':20, 'Suresh':30,'Prakash':40}\n",
    "list(sorted(d1, reverse= True))"
   ]
  },
  {
   "cell_type": "code",
   "execution_count": 24,
   "id": "8e36c76c",
   "metadata": {},
   "outputs": [
    {
     "name": "stdout",
     "output_type": "stream",
     "text": [
      "Ramesh\n",
      "Suresh\n",
      "Prakash\n"
     ]
    }
   ],
   "source": [
    "# IN \n",
    "\n",
    "d1={'Ramesh':20, 'Suresh':30,'Prakash':40}\n",
    "for i in d1:\n",
    "    print(i)"
   ]
  },
  {
   "cell_type": "code",
   "execution_count": 26,
   "id": "fcd68372",
   "metadata": {},
   "outputs": [
    {
     "data": {
      "text/plain": [
       "20"
      ]
     },
     "execution_count": 26,
     "metadata": {},
     "output_type": "execute_result"
    }
   ],
   "source": [
    "# Dictionary is akey value pair\n",
    "# We cannot use index number directly\n",
    "#When ever you wwant to rretrieve ava lue you need to use key\n",
    "d1={'Ramesh':20, 'Suresh':30,'Prakash':40}\n",
    "d1['Ramesh']"
   ]
  },
  {
   "cell_type": "code",
   "execution_count": 27,
   "id": "68f928b3",
   "metadata": {},
   "outputs": [
    {
     "name": "stdout",
     "output_type": "stream",
     "text": [
      "Ramesh has age 20\n",
      "Suresh has age 30\n",
      "Prakash has age 40\n"
     ]
    }
   ],
   "source": [
    "d1={'Ramesh':20, 'Suresh':30,'Prakash':40}\n",
    "for i in d1:\n",
    "    print(f\"{i} has age {d1[i]}\")"
   ]
  },
  {
   "cell_type": "code",
   "execution_count": 28,
   "id": "bb88f4dc",
   "metadata": {},
   "outputs": [],
   "source": [
    "name={'Ramesh', 'Suresh','Prakash'}\n",
    "age =d1={20,30,40}"
   ]
  },
  {
   "cell_type": "code",
   "execution_count": 32,
   "id": "5063d4d6",
   "metadata": {},
   "outputs": [
    {
     "name": "stdout",
     "output_type": "stream",
     "text": [
      "['Ramesh', 'Suresh', 'Prakash']\n",
      "[20, 30, 40]\n"
     ]
    }
   ],
   "source": [
    "# DICTIOANARY TO LIST\n",
    "d1={'Ramesh':20, 'Suresh':30,'Prakash':40}\n",
    "klist=[]\n",
    "vlist=[]\n",
    "for i in d1:\n",
    "    klist.append(i)\n",
    "    vlist.append(d1[i])\n",
    "print(klist)\n",
    "print(vlist)"
   ]
  },
  {
   "cell_type": "code",
   "execution_count": 35,
   "id": "7bfd0a63",
   "metadata": {},
   "outputs": [
    {
     "name": "stdout",
     "output_type": "stream",
     "text": [
      "['Ramesh', 'Suresh', 'Prakash']\n",
      "[20, 30, 40]\n"
     ]
    }
   ],
   "source": [
    "# ********CREATE LIST FROM DICTIOANRY************\n",
    "d1={'Ramesh':20, 'Suresh':30,'Prakash':40}\n",
    "klist=[]\n",
    "vlist=[]\n",
    "klist=[i for i in d1]\n",
    "vlist=[d1[i] for i in d1]\n",
    "print(klist)\n",
    "print(vlist)"
   ]
  },
  {
   "cell_type": "code",
   "execution_count": 40,
   "id": "94be854e",
   "metadata": {},
   "outputs": [
    {
     "data": {
      "text/plain": [
       "{'Abhishek': 30, 'Mohit': 25}"
      ]
     },
     "execution_count": 40,
     "metadata": {},
     "output_type": "execute_result"
    }
   ],
   "source": [
    "#*** Empty Dictioanry***\n",
    "d={}\n",
    "#d[<Key>]=[<Value>]\n",
    "d['Abhishek']=30\n",
    "d['Mohit']=25\n",
    "d"
   ]
  },
  {
   "cell_type": "code",
   "execution_count": 43,
   "id": "8f4b7368",
   "metadata": {},
   "outputs": [
    {
     "data": {
      "text/plain": [
       "{'Prakash': 40, 'Suresh': 20, 'Ramesh': 30}"
      ]
     },
     "execution_count": 43,
     "metadata": {},
     "output_type": "execute_result"
    }
   ],
   "source": [
    "# Create Dictoanry From LIST*****************\n",
    "\n",
    "name={'Ramesh', 'Suresh','Prakash'}\n",
    "age =d1={20,30,40}\n",
    "e={}\n",
    "\n",
    "for i,j in zip(name,age):\n",
    "    e[i]=j\n",
    "e\n",
    "    "
   ]
  },
  {
   "cell_type": "code",
   "execution_count": 46,
   "id": "2578a3da",
   "metadata": {},
   "outputs": [
    {
     "data": {
      "text/plain": [
       "['hello', 'hai', 'how', 'are', 'you']"
      ]
     },
     "execution_count": 46,
     "metadata": {},
     "output_type": "execute_result"
    }
   ],
   "source": [
    "# String to List\n",
    "s='hello hai how are you'\n",
    "p=[]\n",
    "p=s.split()\n",
    "p\n"
   ]
  },
  {
   "cell_type": "code",
   "execution_count": 48,
   "id": "f3b73619",
   "metadata": {},
   "outputs": [
    {
     "ename": "KeyError",
     "evalue": "'hello'",
     "output_type": "error",
     "traceback": [
      "\u001b[1;31m---------------------------------------------------------------------------\u001b[0m",
      "\u001b[1;31mKeyError\u001b[0m                                  Traceback (most recent call last)",
      "\u001b[1;32m~\\AppData\\Local\\Temp/ipykernel_10368/182563569.py\u001b[0m in \u001b[0;36m<module>\u001b[1;34m\u001b[0m\n\u001b[0;32m      7\u001b[0m \u001b[0mc\u001b[0m\u001b[1;33m=\u001b[0m\u001b[1;36m0\u001b[0m\u001b[1;33m\u001b[0m\u001b[1;33m\u001b[0m\u001b[0m\n\u001b[0;32m      8\u001b[0m \u001b[1;32mfor\u001b[0m \u001b[0mi\u001b[0m \u001b[1;32min\u001b[0m \u001b[0mg\u001b[0m\u001b[1;33m:\u001b[0m\u001b[1;33m\u001b[0m\u001b[1;33m\u001b[0m\u001b[0m\n\u001b[1;32m----> 9\u001b[1;33m     \u001b[1;32mif\u001b[0m \u001b[0md\u001b[0m\u001b[1;33m[\u001b[0m\u001b[0mi\u001b[0m\u001b[1;33m]\u001b[0m \u001b[1;32mis\u001b[0m \u001b[0mtrue\u001b[0m\u001b[1;33m:\u001b[0m\u001b[1;33m\u001b[0m\u001b[1;33m\u001b[0m\u001b[0m\n\u001b[0m\u001b[0;32m     10\u001b[0m         \u001b[0mc\u001b[0m\u001b[1;33m=\u001b[0m \u001b[0md\u001b[0m\u001b[1;33m[\u001b[0m\u001b[0mi\u001b[0m\u001b[1;33m]\u001b[0m\u001b[1;33m+\u001b[0m\u001b[1;36m1\u001b[0m\u001b[1;33m\u001b[0m\u001b[1;33m\u001b[0m\u001b[0m\n\u001b[0;32m     11\u001b[0m         \u001b[0md\u001b[0m\u001b[1;33m[\u001b[0m\u001b[0mi\u001b[0m\u001b[1;33m]\u001b[0m\u001b[1;33m=\u001b[0m\u001b[0mc\u001b[0m\u001b[1;33m\u001b[0m\u001b[1;33m\u001b[0m\u001b[0m\n",
      "\u001b[1;31mKeyError\u001b[0m: 'hello'"
     ]
    }
   ],
   "source": [
    "# Word Frequency Program\n",
    "s='hello hai hai how how are you'\n",
    "g=[]\n",
    "g=s.split()\n",
    "g\n",
    "d={}\n",
    "c=0\n",
    "for i in g:\n",
    "    if d[i] is true:\n",
    "        c= d[i]+1\n",
    "        d[i]=c\n",
    "    else:\n",
    "        d[i]=1\n",
    "print(d)"
   ]
  },
  {
   "cell_type": "code",
   "execution_count": 50,
   "id": "f687809f",
   "metadata": {},
   "outputs": [
    {
     "data": {
      "text/plain": [
       "{'hello': 1, 'hai': 2, 'how': 2, 'are': 1, 'you': 1}"
      ]
     },
     "execution_count": 50,
     "metadata": {},
     "output_type": "execute_result"
    }
   ],
   "source": [
    "# Word Frequency Program\n",
    "s='hello hai hai how how are you'\n",
    "words_list=s.split()\n",
    "words_list\n",
    "dict1={}\n",
    "for word in words_list:\n",
    "    dict1[word]=s.count(word)\n",
    "dict1"
   ]
  },
  {
   "cell_type": "code",
   "execution_count": 53,
   "id": "5f9e6834",
   "metadata": {},
   "outputs": [
    {
     "data": {
      "text/plain": [
       "['Data',\n",
       " 'science',\n",
       " 'is',\n",
       " 'an',\n",
       " 'interdisciplinary',\n",
       " 'academic',\n",
       " 'field',\n",
       " 'that',\n",
       " 'uses',\n",
       " 'statistics,',\n",
       " 'scientific',\n",
       " 'computing,',\n",
       " 'scientific',\n",
       " 'methods,',\n",
       " 'processes,',\n",
       " 'scientific',\n",
       " 'visualization,',\n",
       " 'algorithms',\n",
       " 'and',\n",
       " 'systems',\n",
       " 'to',\n",
       " 'extract',\n",
       " 'or',\n",
       " 'extrapolate',\n",
       " 'knowledge',\n",
       " 'and',\n",
       " 'insights',\n",
       " 'from',\n",
       " 'potentially',\n",
       " 'noisy,',\n",
       " 'structured,',\n",
       " 'or',\n",
       " 'unstructured',\n",
       " 'data.',\n",
       " 'Data',\n",
       " 'science',\n",
       " 'also',\n",
       " 'integrates',\n",
       " 'domain',\n",
       " 'knowledge',\n",
       " 'from',\n",
       " 'the',\n",
       " 'underlying',\n",
       " 'applicatin.Data',\n",
       " 'science',\n",
       " 'is',\n",
       " 'multifaceted',\n",
       " 'and',\n",
       " 'can',\n",
       " 'be',\n",
       " 'described',\n",
       " 'as',\n",
       " 'a',\n",
       " 'science,',\n",
       " 'a',\n",
       " 'research',\n",
       " 'paradigm,',\n",
       " 'a',\n",
       " 'research',\n",
       " 'method,',\n",
       " 'a',\n",
       " 'discipline,',\n",
       " 'a',\n",
       " 'workflow,',\n",
       " 'and',\n",
       " 'a',\n",
       " 'profession.']"
      ]
     },
     "execution_count": 53,
     "metadata": {},
     "output_type": "execute_result"
    }
   ],
   "source": [
    "string1=\"\"\"Data science is an interdisciplinary academic field that uses statistics,\n",
    "          scientific computing, scientific methods, processes, scientific visualization,\n",
    "          algorithms and systems to extract or extrapolate knowledge and insights from potentially noisy, structured, or unstructured data.\n",
    "         Data science also integrates domain knowledge from the underlying applicatin.Data science is multifaceted and can be described as a science,\n",
    "         a research paradigm, a research method, a discipline, a workflow, and a profession.\"\"\"\n",
    "\n",
    "#task -1: in the above sentence you need to remove a,an,is,the\n",
    "# task-2: Data first letter Ascii value: 68\n",
    "#         scince first letter Ascii value : 115\n",
    "\n",
    "str=string1.split()\n",
    "str"
   ]
  },
  {
   "cell_type": "code",
   "execution_count": null,
   "id": "4f0a877d",
   "metadata": {},
   "outputs": [],
   "source": []
  },
  {
   "cell_type": "code",
   "execution_count": 54,
   "id": "efa96376",
   "metadata": {},
   "outputs": [
    {
     "data": {
      "text/plain": [
       "{'Ramesh': 30, 'Suresh': 30, 'Prakash': 40}"
      ]
     },
     "execution_count": 54,
     "metadata": {},
     "output_type": "execute_result"
    }
   ],
   "source": [
    "# Mutable & IMMutable\n",
    "#Dictioanry does not have index and there fore cannot change value using index\n",
    "#We need to use Key to chage value in Dictioanr\n",
    "#If value is changed then its Mutable , if value is not changing then ist IMMUTABLE\n",
    "d1={'Ramesh':20, 'Suresh':30,'Prakash':40}\n",
    "d1['Ramesh']=30\n",
    "d1\n",
    "\n"
   ]
  },
  {
   "cell_type": "code",
   "execution_count": 55,
   "id": "937f6148",
   "metadata": {},
   "outputs": [
    {
     "ename": "SyntaxError",
     "evalue": "invalid syntax (Temp/ipykernel_10368/2761858309.py, line 1)",
     "output_type": "error",
     "traceback": [
      "\u001b[1;36m  File \u001b[1;32m\"C:\\Users\\abhis\\AppData\\Local\\Temp/ipykernel_10368/2761858309.py\"\u001b[1;36m, line \u001b[1;32m1\u001b[0m\n\u001b[1;33m    ****List & Dictioanry are mutable\u001b[0m\n\u001b[1;37m    ^\u001b[0m\n\u001b[1;31mSyntaxError\u001b[0m\u001b[1;31m:\u001b[0m invalid syntax\n"
     ]
    }
   ],
   "source": [
    "****List & Dictioanry are mutable\n",
    "***Tuple & Strings are IMMUTABLE\n"
   ]
  },
  {
   "cell_type": "code",
   "execution_count": 60,
   "id": "ae871289",
   "metadata": {},
   "outputs": [
    {
     "data": {
      "text/plain": [
       "'Mango'"
      ]
     },
     "execution_count": 60,
     "metadata": {},
     "output_type": "execute_result"
    }
   ],
   "source": [
    "d={'Fruites':['Mango']}\n",
    "x=d['Fruites'][0]\n",
    "x"
   ]
  },
  {
   "cell_type": "code",
   "execution_count": 63,
   "id": "73d544e7",
   "metadata": {},
   "outputs": [
    {
     "name": "stderr",
     "output_type": "stream",
     "text": [
      "<>:1: SyntaxWarning: str indices must be integers or slices, not dict; perhaps you missed a comma?\n",
      "<>:1: SyntaxWarning: str indices must be integers or slices, not dict; perhaps you missed a comma?\n",
      "C:\\Users\\abhis\\AppData\\Local\\Temp/ipykernel_10368/857441994.py:1: SyntaxWarning: str indices must be integers or slices, not dict; perhaps you missed a comma?\n",
      "  d={'Fruites'[{'Apple':['Kashmir']}]}\n"
     ]
    },
    {
     "ename": "TypeError",
     "evalue": "string indices must be integers",
     "output_type": "error",
     "traceback": [
      "\u001b[1;31m---------------------------------------------------------------------------\u001b[0m",
      "\u001b[1;31mTypeError\u001b[0m                                 Traceback (most recent call last)",
      "\u001b[1;32m~\\AppData\\Local\\Temp/ipykernel_10368/857441994.py\u001b[0m in \u001b[0;36m<module>\u001b[1;34m\u001b[0m\n\u001b[1;32m----> 1\u001b[1;33m \u001b[0md\u001b[0m\u001b[1;33m=\u001b[0m\u001b[1;33m{\u001b[0m\u001b[1;34m'Fruites'\u001b[0m\u001b[1;33m[\u001b[0m\u001b[1;33m{\u001b[0m\u001b[1;34m'Apple'\u001b[0m\u001b[1;33m:\u001b[0m\u001b[1;33m[\u001b[0m\u001b[1;34m'Kashmir'\u001b[0m\u001b[1;33m]\u001b[0m\u001b[1;33m}\u001b[0m\u001b[1;33m]\u001b[0m\u001b[1;33m}\u001b[0m\u001b[1;33m\u001b[0m\u001b[1;33m\u001b[0m\u001b[0m\n\u001b[0m\u001b[0;32m      2\u001b[0m \u001b[0md\u001b[0m\u001b[1;33m[\u001b[0m\u001b[1;34m'Fruites'\u001b[0m\u001b[1;33m]\u001b[0m\u001b[1;33m[\u001b[0m\u001b[1;36m0\u001b[0m\u001b[1;33m]\u001b[0m\u001b[1;33m[\u001b[0m\u001b[1;34m'Apple'\u001b[0m\u001b[1;33m]\u001b[0m\u001b[1;33m[\u001b[0m\u001b[1;36m0\u001b[0m\u001b[1;33m]\u001b[0m\u001b[1;33m\u001b[0m\u001b[1;33m\u001b[0m\u001b[0m\n",
      "\u001b[1;31mTypeError\u001b[0m: string indices must be integers"
     ]
    }
   ],
   "source": [
    "d={'Fruites'[{'Apple':['Kashmir']}]}\n",
    "d['Fruites'][0]['Apple'][0]"
   ]
  },
  {
   "cell_type": "code",
   "execution_count": 64,
   "id": "4b23ceb3",
   "metadata": {},
   "outputs": [
    {
     "ename": "SyntaxError",
     "evalue": "invalid syntax (Temp/ipykernel_10368/3556961233.py, line 9)",
     "output_type": "error",
     "traceback": [
      "\u001b[1;36m  File \u001b[1;32m\"C:\\Users\\abhis\\AppData\\Local\\Temp/ipykernel_10368/3556961233.py\"\u001b[1;36m, line \u001b[1;32m9\u001b[0m\n\u001b[1;33m    d['Fruites'][0]['Apple'][]\u001b[0m\n\u001b[1;37m                             ^\u001b[0m\n\u001b[1;31mSyntaxError\u001b[0m\u001b[1;31m:\u001b[0m invalid syntax\n"
     ]
    }
   ],
   "source": [
    "d={'Fruites':[\n",
    "    {'Apple':\n",
    "     {'Kashmir':\n",
    "      ['India']\n",
    "     }\n",
    "    }\n",
    "     ]\n",
    "  }\n",
    "d['Fruites'][0]['Apple'][]"
   ]
  },
  {
   "cell_type": "code",
   "execution_count": 66,
   "id": "854f1cbb",
   "metadata": {},
   "outputs": [
    {
     "data": {
      "text/plain": [
       "dict_keys(['Ramesh', 'Suresh', 'Prakash'])"
      ]
     },
     "execution_count": 66,
     "metadata": {},
     "output_type": "execute_result"
    }
   ],
   "source": [
    "d1={'Ramesh':20, 'Suresh':30,'Prakash':40}\n",
    "d1.keys()"
   ]
  },
  {
   "cell_type": "code",
   "execution_count": 67,
   "id": "b12f0ecb",
   "metadata": {},
   "outputs": [
    {
     "data": {
      "text/plain": [
       "dict_values([20, 30, 40])"
      ]
     },
     "execution_count": 67,
     "metadata": {},
     "output_type": "execute_result"
    }
   ],
   "source": [
    "d1={'Ramesh':20, 'Suresh':30,'Prakash':40}\n",
    "d1.values()"
   ]
  },
  {
   "cell_type": "code",
   "execution_count": 68,
   "id": "1c936d96",
   "metadata": {},
   "outputs": [
    {
     "data": {
      "text/plain": [
       "dict_items([('Ramesh', 20), ('Suresh', 30), ('Prakash', 40)])"
      ]
     },
     "execution_count": 68,
     "metadata": {},
     "output_type": "execute_result"
    }
   ],
   "source": [
    "d1={'Ramesh':20, 'Suresh':30,'Prakash':40}\n",
    "d1.items()"
   ]
  },
  {
   "cell_type": "code",
   "execution_count": 75,
   "id": "0cdac7b8",
   "metadata": {},
   "outputs": [
    {
     "name": "stdout",
     "output_type": "stream",
     "text": [
      "Ramesh 20\n",
      "Suresh 30\n",
      "Prakash 40\n"
     ]
    },
    {
     "data": {
      "text/plain": [
       "[20, 30, 40]"
      ]
     },
     "execution_count": 75,
     "metadata": {},
     "output_type": "execute_result"
    }
   ],
   "source": [
    "#METHOD 1\n",
    "d1={'Ramesh':20, 'Suresh':30,'Prakash':40}\n",
    "keys,values = [],[]\n",
    "for i in d1:\n",
    "    print(i, d1[i])\n",
    "    keys.append(i)\n",
    "    values.append(d1[i])\n",
    "keys\n",
    "values"
   ]
  },
  {
   "cell_type": "code",
   "execution_count": 76,
   "id": "c0d2164c",
   "metadata": {},
   "outputs": [
    {
     "data": {
      "text/plain": [
       "(['Ramesh', 'Suresh', 'Prakash'], [20, 30, 40])"
      ]
     },
     "execution_count": 76,
     "metadata": {},
     "output_type": "execute_result"
    }
   ],
   "source": [
    "#METHOD 2\n",
    "#Dictionary key will give dictionary keys items in a list\n",
    "#It looks like a list but its notv a list\n",
    "#Which means we cannot apply List method\n",
    "#So we need to convert to list type by using list type casting\n",
    "d2={'Ramesh':20, 'Suresh':30,'Prakash':40}\n",
    "#list[d2.keys()]\n",
    "list(d2.keys()), list(d2.values())"
   ]
  },
  {
   "cell_type": "code",
   "execution_count": 77,
   "id": "0c41e5b2",
   "metadata": {},
   "outputs": [
    {
     "name": "stdout",
     "output_type": "stream",
     "text": [
      "('Ramesh', 20)\n",
      "('Suresh', 30)\n",
      "('Prakash', 40)\n"
     ]
    }
   ],
   "source": [
    "#METHOD 3\n",
    "d1={'Ramesh':20, 'Suresh':30,'Prakash':40}\n",
    "for i in d1.items():\n",
    "    print(i)"
   ]
  },
  {
   "cell_type": "code",
   "execution_count": 88,
   "id": "b1431f00",
   "metadata": {},
   "outputs": [
    {
     "name": "stdout",
     "output_type": "stream",
     "text": [
      "Ramesh 20\n",
      "Suresh 30\n",
      "Prakash 40\n"
     ]
    },
    {
     "data": {
      "text/plain": [
       "(['Ramesh', 'Suresh', 'Prakash'], [20, 30, 40])"
      ]
     },
     "execution_count": 88,
     "metadata": {},
     "output_type": "execute_result"
    }
   ],
   "source": [
    "keys, values=[], []\n",
    "d1={'Ramesh':20, 'Suresh':30,'Prakash':40}\n",
    "for i,j in d1.items():\n",
    "    print(i ,j)\n",
    "    keys.append(i)\n",
    "    values.append(j)\n",
    "keys,values"
   ]
  },
  {
   "cell_type": "code",
   "execution_count": 87,
   "id": "bf1f214d",
   "metadata": {},
   "outputs": [],
   "source": [
    "a=10"
   ]
  },
  {
   "cell_type": "code",
   "execution_count": null,
   "id": "b390872c",
   "metadata": {},
   "outputs": [],
   "source": []
  }
 ],
 "metadata": {
  "kernelspec": {
   "display_name": "Python 3 (ipykernel)",
   "language": "python",
   "name": "python3"
  },
  "language_info": {
   "codemirror_mode": {
    "name": "ipython",
    "version": 3
   },
   "file_extension": ".py",
   "mimetype": "text/x-python",
   "name": "python",
   "nbconvert_exporter": "python",
   "pygments_lexer": "ipython3",
   "version": "3.9.7"
  }
 },
 "nbformat": 4,
 "nbformat_minor": 5
}
